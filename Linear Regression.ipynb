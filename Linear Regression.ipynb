{
 "cells": [
  {
   "cell_type": "code",
   "execution_count": 1,
   "metadata": {},
   "outputs": [],
   "source": [
    "#---------------------------------------------------------------------------------\n",
    "\n",
    "#-----------------LINEAR REGRESSION-----------------#\n",
    "'''Linear regression is a linear system and the coefficients can be calculated\n",
    "analytically using linear algebra. ... Linear regression does provide a useful \n",
    "exercise for learning stochastic gradient descent which is an important algorithm \n",
    "used for minimizing cost functions by machine learning algorithms'''\n",
    "# linear regression uses linear equation to  get to an outcome\n",
    "\n",
    "'''  The equation\n",
    "        \n",
    "        y = B0 + B1 * x\n",
    "\n",
    "This is a line where y is the output variable we want to predict,\n",
    "x is the input variable we know and B0 and B1 are coefficients we need to estimate.'''\n",
    "\n",
    "# sklearn uses stochastic Gradient Descent to reduce cost or loss\n",
    "# cost or loss can be calculated as the difference between the real value and\n",
    "# predicted value the algorithm minimizes it with updating the \n",
    "# biases or coefficients in our case.\n",
    "'''B0 and B1'''\n",
    "\n",
    "# Our model trains on the given values i.e we have x and y\n",
    "# so our model will train on that and calculate loss and stochastic gradient descent will\n",
    "# minimize the cost and update the biases and when we give it a new value it will form the \n",
    "# equation using given x value and updated Biases '''B0 and B1''' and predict a value y\n",
    "\n",
    "# linear regression is used in predicting the outcome\n",
    "# can be used in predicting house prices,weather,etc and many other \n",
    "# things\n",
    "#------------------------------------------------------------------------------------\n",
    "# Getting Libraries that we will need\n",
    "# pandas for getting data,cleaning the data and manipulating it \n",
    "# matplotlib for plotting graphs\n",
    "\n",
    "\n",
    "import pandas as pd\n",
    "import matplotlib.pyplot as plt\n"
   ]
  },
  {
   "cell_type": "code",
   "execution_count": 2,
   "metadata": {},
   "outputs": [
    {
     "data": {
      "text/html": [
       "<div>\n",
       "<style scoped>\n",
       "    .dataframe tbody tr th:only-of-type {\n",
       "        vertical-align: middle;\n",
       "    }\n",
       "\n",
       "    .dataframe tbody tr th {\n",
       "        vertical-align: top;\n",
       "    }\n",
       "\n",
       "    .dataframe thead th {\n",
       "        text-align: right;\n",
       "    }\n",
       "</style>\n",
       "<table border=\"1\" class=\"dataframe\">\n",
       "  <thead>\n",
       "    <tr style=\"text-align: right;\">\n",
       "      <th></th>\n",
       "      <th>x</th>\n",
       "      <th>y</th>\n",
       "    </tr>\n",
       "  </thead>\n",
       "  <tbody>\n",
       "    <tr>\n",
       "      <th>0</th>\n",
       "      <td>77</td>\n",
       "      <td>79.775152</td>\n",
       "    </tr>\n",
       "    <tr>\n",
       "      <th>1</th>\n",
       "      <td>21</td>\n",
       "      <td>23.177279</td>\n",
       "    </tr>\n",
       "    <tr>\n",
       "      <th>2</th>\n",
       "      <td>22</td>\n",
       "      <td>25.609262</td>\n",
       "    </tr>\n",
       "    <tr>\n",
       "      <th>3</th>\n",
       "      <td>20</td>\n",
       "      <td>17.857388</td>\n",
       "    </tr>\n",
       "    <tr>\n",
       "      <th>4</th>\n",
       "      <td>36</td>\n",
       "      <td>41.849864</td>\n",
       "    </tr>\n",
       "  </tbody>\n",
       "</table>\n",
       "</div>"
      ],
      "text/plain": [
       "    x          y\n",
       "0  77  79.775152\n",
       "1  21  23.177279\n",
       "2  22  25.609262\n",
       "3  20  17.857388\n",
       "4  36  41.849864"
      ]
     },
     "execution_count": 2,
     "metadata": {},
     "output_type": "execute_result"
    }
   ],
   "source": [
    "#Getting out dataset using the pandas inbuilt function\n",
    "# read_csv that helps in reading files with extension .csv\n",
    "\n",
    "dataset = pd.read_csv('Downloads/Sample.csv')\n",
    "\n",
    "# Cleaning our data\n",
    "# the dropna() function drops the rows with values NaN\n",
    "\n",
    "dataset.dropna()\n",
    "\n",
    "# printing the first five instances of data\n",
    "\n",
    "dataset.head()\n"
   ]
  },
  {
   "cell_type": "code",
   "execution_count": 3,
   "metadata": {},
   "outputs": [],
   "source": [
    "# Converting our X and Y values in matrix form\n",
    "\n",
    "X = dataset.as_matrix(['x'])\n",
    "Y = dataset.as_matrix(['y'])"
   ]
  },
  {
   "cell_type": "code",
   "execution_count": 4,
   "metadata": {},
   "outputs": [],
   "source": [
    "# Splitting data into training and testing \n",
    "# sklearn's inbuilt function comes handy for that \n",
    "# train_test_split function helps in splitting data into \n",
    "# training and testing\n",
    "\n",
    "from sklearn.model_selection import train_test_split\n",
    "x_train,x_test,y_train,y_test = train_test_split(X,Y)\n"
   ]
  },
  {
   "cell_type": "code",
   "execution_count": 9,
   "metadata": {},
   "outputs": [
    {
     "name": "stdout",
     "output_type": "stream",
     "text": [
      "[0.97760105 0.98775947 0.98746901 0.99206242 0.99648783]\n"
     ]
    }
   ],
   "source": [
    "# Getting our classifier \n",
    "# sklearn provides us Linear Regression already we just have to call it\n",
    "# from sklearn's linear_model module and fit it on training data\n",
    "# and test on testing data\n",
    "\n",
    "\n",
    "from sklearn.linear_model import LinearRegression\n",
    "clf = LinearRegression()\n",
    "clf.fit(x_train,y_train)\n",
    "clf.score(x_test,y_test)\n",
    "\n",
    "# cross validation splits the training and testing data into the no of\n",
    "# ways assigned default is three for eg 80-20 percent, 60-40 , 50-50\n",
    "\n",
    "from sklearn.cross_validation import cross_val_score\n",
    "cv_score = cross_val_score(clf,x_test,y_test,cv=5)\n",
    "print(cv_score)"
   ]
  },
  {
   "cell_type": "code",
   "execution_count": 6,
   "metadata": {},
   "outputs": [
    {
     "data": {
      "image/png": "[encoded data removed]",
      "text/plain": [
       "<Figure size 432x288 with 1 Axes>"
      ]
     },
     "metadata": {},
     "output_type": "display_data"
    }
   ],
   "source": [
    "\n",
    "# Plotting our x and y values using matplotlib's scatter plot\n",
    "\n",
    "\n",
    "plt.scatter(x_train,y_train)\n",
    "plt.xlabel('x------>')\n",
    "plt.ylabel('y------>')\n",
    "plt.title('Linear Regression')\n",
    "plt.show()"
   ]
  },
  {
   "cell_type": "code",
   "execution_count": 7,
   "metadata": {},
   "outputs": [
    {
     "name": "stdout",
     "output_type": "stream",
     "text": [
      "The updated coefficient i.e B0 : [[1.01034037]]\n"
     ]
    }
   ],
   "source": [
    "print('The updated coefficient i.e B0 :',clf.coef_) "
   ]
  },
  {
   "cell_type": "code",
   "execution_count": 8,
   "metadata": {},
   "outputs": [
    {
     "data": {
      "image/png": "[encoded data removed]",
      "text/plain": [
       "<Figure size 432x288 with 1 Axes>"
      ]
     },
     "metadata": {},
     "output_type": "display_data"
    }
   ],
   "source": [
    "plt.plot(x_train,clf.predict(x_train))\n",
    "plt.show()"
   ]
  },
  {
   "cell_type": "code",
   "execution_count": null,
   "metadata": {},
   "outputs": [],
   "source": []
  }
 ],
 "metadata": {
  "kernelspec": {
   "display_name": "Python 3",
   "language": "python",
   "name": "python3"
  },
  "language_info": {
   "codemirror_mode": {
    "name": "ipython",
    "version": 3
   },
   "file_extension": ".py",
   "mimetype": "text/x-python",
   "name": "python",
   "nbconvert_exporter": "python",
   "pygments_lexer": "ipython3",
   "version": "3.5.2"
  }
 },
 "nbformat": 4,
 "nbformat_minor": 2
}
